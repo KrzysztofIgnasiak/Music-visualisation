{
 "metadata": {
  "language_info": {
   "codemirror_mode": {
    "name": "ipython",
    "version": 3
   },
   "file_extension": ".py",
   "mimetype": "text/x-python",
   "name": "python",
   "nbconvert_exporter": "python",
   "pygments_lexer": "ipython3",
   "version": "3.8.5-final"
  },
  "orig_nbformat": 2,
  "kernelspec": {
   "name": "python3",
   "display_name": "Python 3.8.5 32-bit",
   "metadata": {
    "interpreter": {
     "hash": "62b4da82ab8eed337ff08ff647fa9458abd70eb477e91c298b2b408b176a3f70"
    }
   }
  }
 },
 "nbformat": 4,
 "nbformat_minor": 2,
 "cells": [
  {
   "cell_type": "code",
   "execution_count": 1,
   "metadata": {},
   "outputs": [],
   "source": [
    "import pandas as pd\n",
    "import re"
   ]
  },
  {
   "cell_type": "code",
   "execution_count": 2,
   "metadata": {},
   "outputs": [],
   "source": [
    "data = pd.read_csv(r\"top10s.csv\", sep=',',encoding='cp1252')"
   ]
  },
  {
   "cell_type": "code",
   "execution_count": 27,
   "metadata": {},
   "outputs": [],
   "source": [
    "data.replace(\"barbadian pop\",\"pop\",inplace=True)\n",
    "data.replace(\"canadian pop\",\"pop\",inplace=True)\n",
    "data.replace(\"[a-zA-Z]+ hip hop\",\"hip hop\",regex = True,inplace=True)\n",
    "data.replace(\"colombian pop\",\"pop\",inplace=True)"
   ]
  },
  {
   "cell_type": "code",
   "execution_count": 28,
   "metadata": {},
   "outputs": [],
   "source": [
    "data.replace(\"australian dance|dance pop\",\"dance\",regex = True,inplace=True)"
   ]
  },
  {
   "cell_type": "code",
   "execution_count": 29,
   "metadata": {},
   "outputs": [],
   "source": [
    "data.replace(\"australian pop|danish pop|moroccan pop\",\"pop\",regex = True,inplace=True)"
   ]
  },
  {
   "cell_type": "code",
   "execution_count": 30,
   "metadata": {},
   "outputs": [],
   "source": [
    "data.replace(\"[a-zA-Z]+ rap\",\"hip hop\",regex = True,inplace=True)"
   ]
  },
  {
   "cell_type": "code",
   "execution_count": 31,
   "metadata": {},
   "outputs": [],
   "source": [
    "data.replace(\"tropical house|electro house\",\"house\",regex = True,inplace=True)"
   ]
  },
  {
   "cell_type": "code",
   "execution_count": 32,
   "metadata": {},
   "outputs": [],
   "source": [
    "data.replace(\"[a-zA-Z]+ edm\",\"edm\",regex = True,inplace=True)"
   ]
  },
  {
   "cell_type": "code",
   "execution_count": 43,
   "metadata": {},
   "outputs": [],
   "source": [
    "data.replace(\"electro|eletronicpop\",\"eletronic\",regex = True,inplace=True)"
   ]
  },
  {
   "cell_type": "code",
   "execution_count": 34,
   "metadata": {},
   "outputs": [],
   "source": [
    "data.replace(\"contemporary country\",\"acoustic pop \",inplace=True)\n",
    "data.replace(\"alternative r&b\",\"r&b\",inplace=True)"
   ]
  },
  {
   "cell_type": "code",
   "execution_count": 35,
   "metadata": {},
   "outputs": [],
   "source": [
    "data.replace(\"[a-zA-Z]+ latin\",\"latin\",regex = True,inplace=True)"
   ]
  },
  {
   "cell_type": "code",
   "execution_count": 36,
   "metadata": {},
   "outputs": [],
   "source": [
    "data.replace(\"[a-zA-Z]+ indie\",\"indie\",regex = True,inplace=True)\n",
    "data.replace(\"indie pop\",\"indie\",inplace=True)"
   ]
  },
  {
   "cell_type": "code",
   "execution_count": 37,
   "metadata": {},
   "outputs": [],
   "source": [
    "data.replace(\"hip pop|candy pop\",\"pop\",regex = True,inplace= True)"
   ]
  },
  {
   "cell_type": "code",
   "execution_count": 38,
   "metadata": {},
   "outputs": [],
   "source": [
    "data.replace(\"[a-zA-Z]+ [a-zA-Z]+ r&b\",\"r&b\", regex=True,inplace= True)"
   ]
  },
  {
   "cell_type": "code",
   "execution_count": 39,
   "metadata": {},
   "outputs": [],
   "source": [
    "data.replace(\"irish singer-songwriter\",\"pop\", inplace= True)\n",
    "data.replace(\"brostep\",\"dubstep\",inplace=True)\n",
    "data.replace(\"[a-zA-Z]+ trap\",\"trap\",regex = True,inplace=True)"
   ]
  },
  {
   "cell_type": "code",
   "execution_count": 40,
   "metadata": {},
   "outputs": [],
   "source": [
    "data.to_excel(\"music_to_show.xlsx\")"
   ]
  }
 ]
}